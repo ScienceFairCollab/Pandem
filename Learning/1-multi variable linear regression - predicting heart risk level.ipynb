{
 "cells": [
  {
   "cell_type": "code",
   "execution_count": 47,
   "id": "d7d370c9",
   "metadata": {
    "scrolled": true
   },
   "outputs": [
    {
     "data": {
      "text/plain": [
       "Index(['SEX', 'AGEIR', 'TC', 'HDL', 'SMOKE_', 'BPMED', 'DIAB_01', 'RISK'], dtype='object')"
      ]
     },
     "execution_count": 47,
     "metadata": {},
     "output_type": "execute_result"
    }
   ],
   "source": [
    "import pandas as pd\n",
    "dataset=pd.read_csv('cardio_dataset.csv')  #load dataset into a numpy array\n",
    "# dataset.shape\n",
    "# dataset[:10],dataset.shape\n",
    "\n",
    "# dataset.head()\n",
    "dataset.columns"
   ]
  },
  {
   "cell_type": "code",
   "execution_count": 40,
   "id": "8a815301",
   "metadata": {},
   "outputs": [],
   "source": [
    "data=dataset[:,0:7]\n",
    "target=dataset[:,7]"
   ]
  },
  {
   "cell_type": "code",
   "execution_count": 41,
   "id": "b3e0d362",
   "metadata": {},
   "outputs": [],
   "source": [
    "from sklearn.model_selection import train_test_split\n",
    "train_data,test_data,train_target,test_target=train_test_split(data,target,test_size=0.2)"
   ]
  },
  {
   "cell_type": "code",
   "execution_count": 45,
   "id": "cf31474e",
   "metadata": {},
   "outputs": [
    {
     "data": {
      "text/plain": [
       "LinearRegression()"
      ]
     },
     "execution_count": 45,
     "metadata": {},
     "output_type": "execute_result"
    }
   ],
   "source": [
    "from sklearn.linear_model import LinearRegression\n",
    "\n",
    "model=LinearRegression()\n",
    "model.fit(train_data,train_target)"
   ]
  },
  {
   "cell_type": "code",
   "execution_count": 44,
   "id": "e6c7885a",
   "metadata": {},
   "outputs": [],
   "source": [
    "predicted_target=model.predict(test_data)"
   ]
  },
  {
   "cell_type": "code",
   "execution_count": 46,
   "id": "1bf912e9",
   "metadata": {},
   "outputs": [
    {
     "name": "stdout",
     "output_type": "stream",
     "text": [
      "r2 score: 0.7643230381163493\n"
     ]
    }
   ],
   "source": [
    "from sklearn.metrics import r2_score\n",
    "r2=r2_score(test_target,predicted_target)\n",
    "print(\"r2 score:\",r2)"
   ]
  },
  {
   "cell_type": "code",
   "execution_count": 7,
   "id": "2c30e633",
   "metadata": {},
   "outputs": [
    {
     "data": {
      "text/plain": [
       "['regression-model-heart-risk']"
      ]
     },
     "execution_count": 7,
     "metadata": {},
     "output_type": "execute_result"
    }
   ],
   "source": [
    "import joblib\n",
    "joblib.dump(model,'regression-model-heart-risk')"
   ]
  },
  {
   "cell_type": "code",
   "execution_count": 60,
   "id": "ee602881",
   "metadata": {},
   "outputs": [
    {
     "data": {
      "text/html": [
       "<div>\n",
       "<style scoped>\n",
       "    .dataframe tbody tr th:only-of-type {\n",
       "        vertical-align: middle;\n",
       "    }\n",
       "\n",
       "    .dataframe tbody tr th {\n",
       "        vertical-align: top;\n",
       "    }\n",
       "\n",
       "    .dataframe thead th {\n",
       "        text-align: right;\n",
       "    }\n",
       "</style>\n",
       "<table border=\"1\" class=\"dataframe\">\n",
       "  <thead>\n",
       "    <tr style=\"text-align: right;\">\n",
       "      <th></th>\n",
       "      <th>RptDt</th>\n",
       "      <th>GEOID</th>\n",
       "      <th>GEOName</th>\n",
       "      <th>POS_CUM_CP</th>\n",
       "      <th>POS_NEW_CP</th>\n",
       "      <th>POS_7DAYAVG_CP</th>\n",
       "      <th>DTH_CUM_CP</th>\n",
       "      <th>DTH_NEW_CP</th>\n",
       "      <th>DTH_7DAYAVG_CP</th>\n",
       "      <th>DTH_OVER_30DAYS_CP</th>\n",
       "      <th>...</th>\n",
       "      <th>HOSP_YES_CP</th>\n",
       "      <th>HOSP_NO_CP</th>\n",
       "      <th>HOSP_UNK_CP</th>\n",
       "      <th>Date</th>\n",
       "      <th>POP</th>\n",
       "      <th>POP_MOE</th>\n",
       "      <th>OBJECTID</th>\n",
       "      <th>GEO</th>\n",
       "      <th>ShapeSTArea</th>\n",
       "      <th>ShapeSTLength</th>\n",
       "    </tr>\n",
       "  </thead>\n",
       "  <tbody>\n",
       "    <tr>\n",
       "      <th>0</th>\n",
       "      <td>2022/11/30 20:00:00+00</td>\n",
       "      <td>01582728</td>\n",
       "      <td>Atlanta town</td>\n",
       "      <td>150</td>\n",
       "      <td>0</td>\n",
       "      <td>0.00</td>\n",
       "      <td>1</td>\n",
       "      <td>0</td>\n",
       "      <td>0.0</td>\n",
       "      <td>0</td>\n",
       "      <td>...</td>\n",
       "      <td>8</td>\n",
       "      <td>90</td>\n",
       "      <td>52</td>\n",
       "      <td>2022/11/29 06:00:00+00</td>\n",
       "      <td>514.0</td>\n",
       "      <td>74.0</td>\n",
       "      <td>1</td>\n",
       "      <td>County subdivision</td>\n",
       "      <td>2.688284e+08</td>\n",
       "      <td>72207.326422</td>\n",
       "    </tr>\n",
       "    <tr>\n",
       "      <th>1</th>\n",
       "      <td>2022/11/30 20:00:00+00</td>\n",
       "      <td>01582729</td>\n",
       "      <td>Auburn town</td>\n",
       "      <td>193</td>\n",
       "      <td>0</td>\n",
       "      <td>0.14</td>\n",
       "      <td>1</td>\n",
       "      <td>0</td>\n",
       "      <td>0.0</td>\n",
       "      <td>0</td>\n",
       "      <td>...</td>\n",
       "      <td>3</td>\n",
       "      <td>122</td>\n",
       "      <td>68</td>\n",
       "      <td>2022/11/29 06:00:00+00</td>\n",
       "      <td>657.0</td>\n",
       "      <td>103.0</td>\n",
       "      <td>2</td>\n",
       "      <td>County subdivision</td>\n",
       "      <td>1.862137e+08</td>\n",
       "      <td>59979.456287</td>\n",
       "    </tr>\n",
       "    <tr>\n",
       "      <th>2</th>\n",
       "      <td>2022/11/30 20:00:00+00</td>\n",
       "      <td>01582730</td>\n",
       "      <td>Auburn town</td>\n",
       "      <td>685</td>\n",
       "      <td>1</td>\n",
       "      <td>0.29</td>\n",
       "      <td>12</td>\n",
       "      <td>0</td>\n",
       "      <td>0.0</td>\n",
       "      <td>0</td>\n",
       "      <td>...</td>\n",
       "      <td>24</td>\n",
       "      <td>462</td>\n",
       "      <td>199</td>\n",
       "      <td>2022/11/29 06:00:00+00</td>\n",
       "      <td>2472.0</td>\n",
       "      <td>197.0</td>\n",
       "      <td>3</td>\n",
       "      <td>County subdivision</td>\n",
       "      <td>1.768040e+08</td>\n",
       "      <td>60612.303996</td>\n",
       "    </tr>\n",
       "    <tr>\n",
       "      <th>3</th>\n",
       "      <td>2022/11/30 20:00:00+00</td>\n",
       "      <td>01582731</td>\n",
       "      <td>Auburndale village</td>\n",
       "      <td>215</td>\n",
       "      <td>0</td>\n",
       "      <td>0.00</td>\n",
       "      <td>4</td>\n",
       "      <td>0</td>\n",
       "      <td>0.0</td>\n",
       "      <td>0</td>\n",
       "      <td>...</td>\n",
       "      <td>13</td>\n",
       "      <td>112</td>\n",
       "      <td>90</td>\n",
       "      <td>2022/11/29 06:00:00+00</td>\n",
       "      <td>744.0</td>\n",
       "      <td>104.0</td>\n",
       "      <td>4</td>\n",
       "      <td>County subdivision</td>\n",
       "      <td>1.059224e+07</td>\n",
       "      <td>15756.200376</td>\n",
       "    </tr>\n",
       "    <tr>\n",
       "      <th>4</th>\n",
       "      <td>2022/11/30 20:00:00+00</td>\n",
       "      <td>01582732</td>\n",
       "      <td>Auburndale town</td>\n",
       "      <td>222</td>\n",
       "      <td>0</td>\n",
       "      <td>0.00</td>\n",
       "      <td>1</td>\n",
       "      <td>0</td>\n",
       "      <td>0.0</td>\n",
       "      <td>0</td>\n",
       "      <td>...</td>\n",
       "      <td>9</td>\n",
       "      <td>131</td>\n",
       "      <td>82</td>\n",
       "      <td>2022/11/29 06:00:00+00</td>\n",
       "      <td>754.0</td>\n",
       "      <td>72.0</td>\n",
       "      <td>5</td>\n",
       "      <td>County subdivision</td>\n",
       "      <td>1.650294e+08</td>\n",
       "      <td>68741.026326</td>\n",
       "    </tr>\n",
       "  </tbody>\n",
       "</table>\n",
       "<p>5 rows × 89 columns</p>\n",
       "</div>"
      ],
      "text/plain": [
       "                    RptDt     GEOID             GEOName  POS_CUM_CP  \\\n",
       "0  2022/11/30 20:00:00+00  01582728        Atlanta town         150   \n",
       "1  2022/11/30 20:00:00+00  01582729         Auburn town         193   \n",
       "2  2022/11/30 20:00:00+00  01582730         Auburn town         685   \n",
       "3  2022/11/30 20:00:00+00  01582731  Auburndale village         215   \n",
       "4  2022/11/30 20:00:00+00  01582732     Auburndale town         222   \n",
       "\n",
       "   POS_NEW_CP  POS_7DAYAVG_CP  DTH_CUM_CP  DTH_NEW_CP  DTH_7DAYAVG_CP  \\\n",
       "0           0            0.00           1           0             0.0   \n",
       "1           0            0.14           1           0             0.0   \n",
       "2           1            0.29          12           0             0.0   \n",
       "3           0            0.00           4           0             0.0   \n",
       "4           0            0.00           1           0             0.0   \n",
       "\n",
       "   DTH_OVER_30DAYS_CP  ...  HOSP_YES_CP  HOSP_NO_CP  HOSP_UNK_CP  \\\n",
       "0                   0  ...            8          90           52   \n",
       "1                   0  ...            3         122           68   \n",
       "2                   0  ...           24         462          199   \n",
       "3                   0  ...           13         112           90   \n",
       "4                   0  ...            9         131           82   \n",
       "\n",
       "                     Date     POP  POP_MOE  OBJECTID                 GEO  \\\n",
       "0  2022/11/29 06:00:00+00   514.0     74.0         1  County subdivision   \n",
       "1  2022/11/29 06:00:00+00   657.0    103.0         2  County subdivision   \n",
       "2  2022/11/29 06:00:00+00  2472.0    197.0         3  County subdivision   \n",
       "3  2022/11/29 06:00:00+00   744.0    104.0         4  County subdivision   \n",
       "4  2022/11/29 06:00:00+00   754.0     72.0         5  County subdivision   \n",
       "\n",
       "    ShapeSTArea  ShapeSTLength  \n",
       "0  2.688284e+08   72207.326422  \n",
       "1  1.862137e+08   59979.456287  \n",
       "2  1.768040e+08   60612.303996  \n",
       "3  1.059224e+07   15756.200376  \n",
       "4  1.650294e+08   68741.026326  \n",
       "\n",
       "[5 rows x 89 columns]"
      ]
     },
     "execution_count": 60,
     "metadata": {},
     "output_type": "execute_result"
    }
   ],
   "source": [
    "################Step 1-Import the data and check #######################\n",
    "import pandas as pd\n",
    "MyData=pd.read_csv('/Users/amitnverma/Desktop/2020-2021-2022/Parsh/ScienceFair/DataSets/DataSets/Covid19/COVID-19_Data_by_City%2C_Village%2C_Town_V2.csv')\n",
    "# MyData=dataset[:,7]\n",
    "\n",
    "\n",
    "# MyData.shape\n",
    "\n",
    "\n",
    "MyData.columns\n",
    "\n",
    "MyData.RptDt.value_counts()\n",
    "MyData.head()\n"
   ]
  },
  {
   "cell_type": "code",
   "execution_count": 22,
   "id": "48194f52",
   "metadata": {},
   "outputs": [
    {
     "data": {
      "text/plain": [
       "EventId                  0\n",
       "Type                     0\n",
       "Severity                 0\n",
       "StartTime(UTC)           0\n",
       "EndTime(UTC)             0\n",
       "Precipitation(in)        0\n",
       "TimeZone                 0\n",
       "AirportCode              0\n",
       "LocationLat              0\n",
       "LocationLng              0\n",
       "City                 14563\n",
       "County                   0\n",
       "State                    0\n",
       "ZipCode              59234\n",
       "dtype: int64"
      ]
     },
     "execution_count": 22,
     "metadata": {},
     "output_type": "execute_result"
    }
   ],
   "source": [
    "################Step 2-Data Cleaning#######################\n",
    "#Check for missing values\n",
    "MyData.isnull().sum() "
   ]
  },
  {
   "cell_type": "code",
   "execution_count": 26,
   "id": "1d9106e3",
   "metadata": {},
   "outputs": [],
   "source": [
    "#Treating null value-replacing null value with mean,median,mode or drop\n",
    "MyData.dropna(inplace = True)\n"
   ]
  },
  {
   "cell_type": "code",
   "execution_count": 27,
   "id": "ed530ebe",
   "metadata": {},
   "outputs": [
    {
     "data": {
      "text/plain": [
       "EventId              0\n",
       "Type                 0\n",
       "Severity             0\n",
       "StartTime(UTC)       0\n",
       "EndTime(UTC)         0\n",
       "Precipitation(in)    0\n",
       "TimeZone             0\n",
       "AirportCode          0\n",
       "LocationLat          0\n",
       "LocationLng          0\n",
       "City                 0\n",
       "County               0\n",
       "State                0\n",
       "ZipCode              0\n",
       "dtype: int64"
      ]
     },
     "execution_count": 27,
     "metadata": {},
     "output_type": "execute_result"
    }
   ],
   "source": [
    "MyData.isnull().sum()"
   ]
  },
  {
   "cell_type": "code",
   "execution_count": 28,
   "id": "c7056d5a",
   "metadata": {},
   "outputs": [
    {
     "data": {
      "text/html": [
       "<div>\n",
       "<style scoped>\n",
       "    .dataframe tbody tr th:only-of-type {\n",
       "        vertical-align: middle;\n",
       "    }\n",
       "\n",
       "    .dataframe tbody tr th {\n",
       "        vertical-align: top;\n",
       "    }\n",
       "\n",
       "    .dataframe thead th {\n",
       "        text-align: right;\n",
       "    }\n",
       "</style>\n",
       "<table border=\"1\" class=\"dataframe\">\n",
       "  <thead>\n",
       "    <tr style=\"text-align: right;\">\n",
       "      <th></th>\n",
       "      <th>Precipitation(in)</th>\n",
       "      <th>LocationLat</th>\n",
       "      <th>LocationLng</th>\n",
       "      <th>ZipCode</th>\n",
       "    </tr>\n",
       "  </thead>\n",
       "  <tbody>\n",
       "    <tr>\n",
       "      <th>count</th>\n",
       "      <td>7.419931e+06</td>\n",
       "      <td>7.419931e+06</td>\n",
       "      <td>7.419931e+06</td>\n",
       "      <td>7.419931e+06</td>\n",
       "    </tr>\n",
       "    <tr>\n",
       "      <th>mean</th>\n",
       "      <td>9.558954e-02</td>\n",
       "      <td>3.873037e+01</td>\n",
       "      <td>-9.184624e+01</td>\n",
       "      <td>5.247809e+04</td>\n",
       "    </tr>\n",
       "    <tr>\n",
       "      <th>std</th>\n",
       "      <td>9.220315e-01</td>\n",
       "      <td>5.451146e+00</td>\n",
       "      <td>1.343660e+01</td>\n",
       "      <td>2.571490e+04</td>\n",
       "    </tr>\n",
       "    <tr>\n",
       "      <th>min</th>\n",
       "      <td>0.000000e+00</td>\n",
       "      <td>2.455710e+01</td>\n",
       "      <td>-1.245550e+02</td>\n",
       "      <td>1.022000e+03</td>\n",
       "    </tr>\n",
       "    <tr>\n",
       "      <th>25%</th>\n",
       "      <td>0.000000e+00</td>\n",
       "      <td>3.450710e+01</td>\n",
       "      <td>-9.771450e+01</td>\n",
       "      <td>3.131400e+04</td>\n",
       "    </tr>\n",
       "    <tr>\n",
       "      <th>50%</th>\n",
       "      <td>0.000000e+00</td>\n",
       "      <td>3.927330e+01</td>\n",
       "      <td>-8.973070e+01</td>\n",
       "      <td>5.401700e+04</td>\n",
       "    </tr>\n",
       "    <tr>\n",
       "      <th>75%</th>\n",
       "      <td>5.000000e-02</td>\n",
       "      <td>4.293800e+01</td>\n",
       "      <td>-8.193510e+01</td>\n",
       "      <td>7.352100e+04</td>\n",
       "    </tr>\n",
       "    <tr>\n",
       "      <th>max</th>\n",
       "      <td>1.104130e+03</td>\n",
       "      <td>4.894020e+01</td>\n",
       "      <td>-6.779280e+01</td>\n",
       "      <td>9.936200e+04</td>\n",
       "    </tr>\n",
       "  </tbody>\n",
       "</table>\n",
       "</div>"
      ],
      "text/plain": [
       "       Precipitation(in)   LocationLat   LocationLng       ZipCode\n",
       "count       7.419931e+06  7.419931e+06  7.419931e+06  7.419931e+06\n",
       "mean        9.558954e-02  3.873037e+01 -9.184624e+01  5.247809e+04\n",
       "std         9.220315e-01  5.451146e+00  1.343660e+01  2.571490e+04\n",
       "min         0.000000e+00  2.455710e+01 -1.245550e+02  1.022000e+03\n",
       "25%         0.000000e+00  3.450710e+01 -9.771450e+01  3.131400e+04\n",
       "50%         0.000000e+00  3.927330e+01 -8.973070e+01  5.401700e+04\n",
       "75%         5.000000e-02  4.293800e+01 -8.193510e+01  7.352100e+04\n",
       "max         1.104130e+03  4.894020e+01 -6.779280e+01  9.936200e+04"
      ]
     },
     "execution_count": 28,
     "metadata": {},
     "output_type": "execute_result"
    }
   ],
   "source": [
    "#Checking for outliers\n",
    "MyData.describe()"
   ]
  },
  {
   "cell_type": "code",
   "execution_count": 30,
   "id": "d44bdc7b",
   "metadata": {},
   "outputs": [
    {
     "data": {
      "image/png": "[encoded data removed]",
      "text/plain": [
       "<Figure size 640x480 with 1 Axes>"
      ]
     },
     "metadata": {},
     "output_type": "display_data"
    }
   ],
   "source": [
    "#checking boxplot for Precipitation(in) column\n",
    "import matplotlib.pyplot as plt\n",
    "%matplotlib inline\n",
    "plt.boxplot(MyData['Precipitation(in)'])\n",
    "plt.show()"
   ]
  },
  {
   "cell_type": "code",
   "execution_count": null,
   "id": "12e0cdc2",
   "metadata": {},
   "outputs": [],
   "source": []
  }
 ],
 "metadata": {
  "kernelspec": {
   "display_name": "Python 3 (ipykernel)",
   "language": "python",
   "name": "python3"
  },
  "language_info": {
   "codemirror_mode": {
    "name": "ipython",
    "version": 3
   },
   "file_extension": ".py",
   "mimetype": "text/x-python",
   "name": "python",
   "nbconvert_exporter": "python",
   "pygments_lexer": "ipython3",
   "version": "3.9.13"
  }
 },
 "nbformat": 4,
 "nbformat_minor": 5
}
