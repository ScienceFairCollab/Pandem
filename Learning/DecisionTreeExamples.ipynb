{
 "cells": [
  {
   "cell_type": "markdown",
   "id": "b27ae1d8",
   "metadata": {},
   "source": [
    "# Decision Tree Examples"
   ]
  },
  {
   "cell_type": "markdown",
   "id": "f07a8ee7",
   "metadata": {},
   "source": [
    "Example 1 - Using Entropy/Infogain or Gini index"
   ]
  },
  {
   "cell_type": "code",
   "execution_count": 89,
   "id": "fc48ecbf",
   "metadata": {},
   "outputs": [],
   "source": [
    "import numpy as np\n",
    "import pandas as pd\n",
    "from sklearn.tree import DecisionTreeClassifier\n",
    "from sklearn.model_selection import train_test_split\n",
    "from sklearn.model_selection import cross_validate\n",
    "from sklearn import datasets\n",
    "# from sklearn.datasets import load_iris\n",
    "# data=load_iris()\n",
    "# df = pd.DataFrame(data=data.data, columns=data.feature_names)\n",
    "# df.head()"
   ]
  },
  {
   "cell_type": "code",
   "execution_count": 95,
   "id": "78a81b44",
   "metadata": {},
   "outputs": [],
   "source": [
    "iris_data = datasets.load_iris()\n"
   ]
  },
  {
   "cell_type": "code",
   "execution_count": 96,
   "id": "d52dc3cb",
   "metadata": {},
   "outputs": [],
   "source": [
    "features = iris_data.data\n",
    "targets = iris_data.target"
   ]
  },
  {
   "cell_type": "code",
   "execution_count": 97,
   "id": "e353a6b7",
   "metadata": {},
   "outputs": [],
   "source": [
    "feature_train, feature_test, target_train, target_test = train_test_split(features, targets, test_size=0.2)"
   ]
  },
  {
   "cell_type": "code",
   "execution_count": 98,
   "id": "7ee12509",
   "metadata": {},
   "outputs": [],
   "source": [
    "model = DecisionTreeClassifier(criterion='entropy')"
   ]
  },
  {
   "cell_type": "code",
   "execution_count": 99,
   "id": "98561374",
   "metadata": {},
   "outputs": [
    {
     "data": {
      "text/plain": [
       "0.9533333333333334"
      ]
     },
     "execution_count": 99,
     "metadata": {},
     "output_type": "execute_result"
    }
   ],
   "source": [
    "predicted = cross_validate(model, features, targets, cv=10)\n",
    "np.mean(predicted['test_score'])"
   ]
  },
  {
   "cell_type": "markdown",
   "id": "a606279d",
   "metadata": {},
   "source": [
    "Example 2 - Use the optimum depth using Gridsearch cross validation - Parameter Tuning"
   ]
  },
  {
   "cell_type": "code",
   "execution_count": 100,
   "id": "b76e72b4",
   "metadata": {},
   "outputs": [],
   "source": [
    "import numpy as np\n",
    "from sklearn.tree import DecisionTreeClassifier\n",
    "from sklearn.model_selection import train_test_split\n",
    "from sklearn.metrics import confusion_matrix\n",
    "from sklearn.metrics import accuracy_score\n",
    "from sklearn import datasets\n",
    "from sklearn.model_selection import GridSearchCV"
   ]
  },
  {
   "cell_type": "code",
   "execution_count": 102,
   "id": "772a8049",
   "metadata": {},
   "outputs": [],
   "source": [
    "iris_data = datasets.load_iris()\n",
    "\n",
    "features = iris_data.data\n",
    "targets = iris_data.target\n",
    "# iris_data.data.shape\n",
    "# iris_data.target"
   ]
  },
  {
   "cell_type": "code",
   "execution_count": 103,
   "id": "13251a13",
   "metadata": {},
   "outputs": [],
   "source": [
    "# with grid search you can find an optimal parameter \"parameter tuning\"\n",
    "param_grid = {'max_depth': np.arange(1, 10)}"
   ]
  },
  {
   "cell_type": "code",
   "execution_count": 108,
   "id": "e36dc920",
   "metadata": {},
   "outputs": [],
   "source": [
    "feature_train, feature_test, target_train, target_test = train_test_split(features, targets, test_size=.2)"
   ]
  },
  {
   "cell_type": "code",
   "execution_count": 109,
   "id": "dd0aba53",
   "metadata": {},
   "outputs": [],
   "source": [
    "# in every iteration we split the data randomly in cross validation + DecisionTreeClassifier\n",
    "# initializes the tree randomly: that's why you get different results !!!\n",
    "tree = GridSearchCV(DecisionTreeClassifier(), param_grid)"
   ]
  },
  {
   "cell_type": "code",
   "execution_count": 110,
   "id": "3a8852f9",
   "metadata": {},
   "outputs": [
    {
     "data": {
      "text/plain": [
       "GridSearchCV(estimator=DecisionTreeClassifier(),\n",
       "             param_grid={'max_depth': array([1, 2, 3, 4, 5, 6, 7, 8, 9])})"
      ]
     },
     "execution_count": 110,
     "metadata": {},
     "output_type": "execute_result"
    }
   ],
   "source": [
    "tree.fit(feature_train, target_train)"
   ]
  },
  {
   "cell_type": "code",
   "execution_count": 111,
   "id": "45d644fa",
   "metadata": {},
   "outputs": [
    {
     "data": {
      "text/plain": [
       "('Best parameter with Grid Search: ', {'max_depth': 3})"
      ]
     },
     "execution_count": 111,
     "metadata": {},
     "output_type": "execute_result"
    }
   ],
   "source": [
    "\"Best parameter with Grid Search: \", tree.best_params_\n"
   ]
  },
  {
   "cell_type": "code",
   "execution_count": 113,
   "id": "82b55cd5",
   "metadata": {},
   "outputs": [
    {
     "data": {
      "text/plain": [
       "0.9333333333333333"
      ]
     },
     "execution_count": 113,
     "metadata": {},
     "output_type": "execute_result"
    }
   ],
   "source": [
    "grid_predictions = tree.predict(feature_test)\n",
    "confusion_matrix(target_test, grid_predictions)\n",
    "accuracy_score(target_test, grid_predictions)"
   ]
  },
  {
   "cell_type": "markdown",
   "id": "92ac3b89",
   "metadata": {},
   "source": [
    "Example 3 - Cancer Detection with the help of Decision Tree"
   ]
  },
  {
   "cell_type": "code",
   "execution_count": 36,
   "id": "6a7751a9",
   "metadata": {},
   "outputs": [],
   "source": [
    "import numpy as np\n",
    "from sklearn.tree import DecisionTreeClassifier\n",
    "from sklearn.model_selection import train_test_split\n",
    "from sklearn import datasets\n",
    "from sklearn.model_selection import cross_validate"
   ]
  },
  {
   "cell_type": "code",
   "execution_count": 37,
   "id": "c6546785",
   "metadata": {},
   "outputs": [],
   "source": [
    "cancer_data = datasets.load_breast_cancer()"
   ]
  },
  {
   "cell_type": "code",
   "execution_count": 38,
   "id": "79c3d594",
   "metadata": {},
   "outputs": [],
   "source": [
    "features = cancer_data.data\n",
    "labels = cancer_data.target"
   ]
  },
  {
   "cell_type": "code",
   "execution_count": 39,
   "id": "eff9ff86",
   "metadata": {},
   "outputs": [],
   "source": [
    "feature_train, feature_test, target_train, target_test = train_test_split(features, labels, test_size=0.3)"
   ]
  },
  {
   "cell_type": "code",
   "execution_count": 40,
   "id": "899e6f8d",
   "metadata": {},
   "outputs": [],
   "source": [
    "model = DecisionTreeClassifier(criterion='entropy', max_depth=5)"
   ]
  },
  {
   "cell_type": "code",
   "execution_count": 44,
   "id": "71f61e38",
   "metadata": {},
   "outputs": [],
   "source": [
    "predicted = cross_validate(model, features, labels, cv=10)\n",
    "np.mean(predicted['test_score'])"
   ]
  },
  {
   "cell_type": "code",
   "execution_count": null,
   "id": "bd65008b",
   "metadata": {},
   "outputs": [],
   "source": []
  }
 ],
 "metadata": {
  "kernelspec": {
   "display_name": "Python 3 (ipykernel)",
   "language": "python",
   "name": "python3"
  },
  "language_info": {
   "codemirror_mode": {
    "name": "ipython",
    "version": 3
   },
   "file_extension": ".py",
   "mimetype": "text/x-python",
   "name": "python",
   "nbconvert_exporter": "python",
   "pygments_lexer": "ipython3",
   "version": "3.9.13"
  }
 },
 "nbformat": 4,
 "nbformat_minor": 5
}
